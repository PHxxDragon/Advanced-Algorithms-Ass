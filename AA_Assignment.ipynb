{
  "nbformat": 4,
  "nbformat_minor": 0,
  "metadata": {
    "colab": {
      "provenance": []
    },
    "kernelspec": {
      "name": "python3",
      "display_name": "Python 3"
    },
    "language_info": {
      "name": "python"
    }
  },
  "cells": [
    {
      "cell_type": "code",
      "source": [
        "!pip install pyomo\n"
      ],
      "metadata": {
        "colab": {
          "base_uri": "https://localhost:8080/"
        },
        "id": "0XalT4LvrRgY",
        "outputId": "d04a1ff9-d871-48da-bb3f-c460d5cda3e3"
      },
      "execution_count": 1,
      "outputs": [
        {
          "output_type": "stream",
          "name": "stdout",
          "text": [
            "Looking in indexes: https://pypi.org/simple, https://us-python.pkg.dev/colab-wheels/public/simple/\n",
            "Collecting pyomo\n",
            "  Downloading Pyomo-6.5.0-cp39-cp39-manylinux_2_17_x86_64.manylinux2014_x86_64.whl (11.0 MB)\n",
            "\u001b[2K     \u001b[90m━━━━━━━━━━━━━━━━━━━━━━━━━━━━━━━━━━━━━━━━\u001b[0m \u001b[32m11.0/11.0 MB\u001b[0m \u001b[31m60.2 MB/s\u001b[0m eta \u001b[36m0:00:00\u001b[0m\n",
            "\u001b[?25hCollecting ply\n",
            "  Downloading ply-3.11-py2.py3-none-any.whl (49 kB)\n",
            "\u001b[2K     \u001b[90m━━━━━━━━━━━━━━━━━━━━━━━━━━━━━━━━━━━━━━━━\u001b[0m \u001b[32m49.6/49.6 kB\u001b[0m \u001b[31m5.5 MB/s\u001b[0m eta \u001b[36m0:00:00\u001b[0m\n",
            "\u001b[?25hInstalling collected packages: ply, pyomo\n",
            "Successfully installed ply-3.11 pyomo-6.5.0\n"
          ]
        }
      ]
    },
    {
      "cell_type": "code",
      "source": [
        "!apt-get install -y -qq coinor-cbc"
      ],
      "metadata": {
        "colab": {
          "base_uri": "https://localhost:8080/"
        },
        "id": "d0p1xXfB4yW0",
        "outputId": "65cb0d21-0907-469b-ca9b-b4f9d91c60d0"
      },
      "execution_count": 26,
      "outputs": [
        {
          "output_type": "stream",
          "name": "stdout",
          "text": [
            "Selecting previously unselected package coinor-libcoinutils3v5.\n",
            "(Reading database ... 122400 files and directories currently installed.)\n",
            "Preparing to unpack .../0-coinor-libcoinutils3v5_2.11.4+repack1-1_amd64.deb ...\n",
            "Unpacking coinor-libcoinutils3v5 (2.11.4+repack1-1) ...\n",
            "Selecting previously unselected package coinor-libosi1v5.\n",
            "Preparing to unpack .../1-coinor-libosi1v5_0.108.6+repack1-1_amd64.deb ...\n",
            "Unpacking coinor-libosi1v5 (0.108.6+repack1-1) ...\n",
            "Selecting previously unselected package coinor-libclp1.\n",
            "Preparing to unpack .../2-coinor-libclp1_1.17.5+repack1-1_amd64.deb ...\n",
            "Unpacking coinor-libclp1 (1.17.5+repack1-1) ...\n",
            "Selecting previously unselected package coinor-libcgl1.\n",
            "Preparing to unpack .../3-coinor-libcgl1_0.60.3+repack1-2_amd64.deb ...\n",
            "Unpacking coinor-libcgl1 (0.60.3+repack1-2) ...\n",
            "Selecting previously unselected package coinor-libcbc3.\n",
            "Preparing to unpack .../4-coinor-libcbc3_2.10.3+repack1-1build1_amd64.deb ...\n",
            "Unpacking coinor-libcbc3 (2.10.3+repack1-1build1) ...\n",
            "Selecting previously unselected package coinor-cbc.\n",
            "Preparing to unpack .../5-coinor-cbc_2.10.3+repack1-1build1_amd64.deb ...\n",
            "Unpacking coinor-cbc (2.10.3+repack1-1build1) ...\n",
            "Setting up coinor-libcoinutils3v5 (2.11.4+repack1-1) ...\n",
            "Setting up coinor-libosi1v5 (0.108.6+repack1-1) ...\n",
            "Setting up coinor-libclp1 (1.17.5+repack1-1) ...\n",
            "Setting up coinor-libcgl1 (0.60.3+repack1-2) ...\n",
            "Setting up coinor-libcbc3 (2.10.3+repack1-1build1) ...\n",
            "Setting up coinor-cbc (2.10.3+repack1-1build1) ...\n",
            "Processing triggers for man-db (2.9.1-1) ...\n",
            "Processing triggers for libc-bin (2.31-0ubuntu9.9) ...\n"
          ]
        }
      ]
    },
    {
      "cell_type": "code",
      "source": [
        "days = [[6,9,9,8,3,3,7,8,8,5,3,3,2],\n",
        "        [6,10,7,7,3,4,7,5,9,5,3,4,3],\n",
        "        [7,9,9,6,3,4,6,8,7,4,3,3,3],\n",
        "        [6,9,8,6,4,4,5,8,7,5,4,3,4],\n",
        "        [6,7,8,7,3,5,6,7,6,5,3,3,3],\n",
        "        [6,9,9,4,3,3,4,5,5,5,3,3,2],\n",
        "        [5,7,6,5,4,3,4,5,6,5,3,3,3]]\n",
        "shifts=[[1,1,1,1,0,1,1,1,1,0,0,0,0],#C1\n",
        "        [0,1,1,1,0,1,1,1,1,1,0,0,0],#C2\n",
        "        [0,0,1,1,1,0,1,1,1,1,1,0,0],#C3\n",
        "        [0,0,0,1,1,1,1,1,0,1,1,1,0],#C4\n",
        "        [0,0,0,0,1,1,1,1,1,0,1,1,1],#C5\n",
        "        [1,1,1,1,0,0,0,0,0,1,1,1,1]]#C6"
      ],
      "metadata": {
        "id": "qTSY496qtOq5"
      },
      "execution_count": 1,
      "outputs": []
    },
    {
      "cell_type": "markdown",
      "source": [
        "#Simplex method"
      ],
      "metadata": {
        "id": "sA_6butBU2Hh"
      }
    },
    {
      "cell_type": "code",
      "source": [
        "#Q1\n",
        "import pyomo.environ as pyo\n",
        "from functools import reduce\n",
        "no_shifts = len(shifts)\n",
        "ncs = []\n",
        "cas = [0 for i in range(no_shifts)]\n",
        "\n",
        "for i in range(len(days)):\n",
        "  model = pyo.ConcreteModel()\n",
        "  \n",
        "  vars = list(range(0,no_shifts))\n",
        "\n",
        "  model.x = pyo.Var(vars,domain=pyo.NonNegativeIntegers)\n",
        "  model.c = pyo.ConstraintList()\n",
        "  for j in range(len(days[0])):\n",
        "    temp = None\n",
        "    for k in range(no_shifts):\n",
        "      if temp is None:\n",
        "        temp = model.x[vars[k]]*shifts[k][j]\n",
        "      else:\n",
        "        temp += model.x[vars[k]]*shifts[k][j]\n",
        "    model.c.add(temp >= days[i][j])\n",
        "  model.objective = pyo.Objective(expr = reduce(lambda a, b: a + model.x[b], vars, 0),sense=pyo.minimize)\n",
        "  solver = pyo.SolverFactory('cbc')\n",
        "  result = solver.solve(model)\n",
        "  print(\"Day: \"+str(i) + \" - \" + str(model.objective())+\" CSR\")\n",
        "  ncs.append(model.objective())\n",
        "  for j in vars:\n",
        "    cas[j]+=model.x[j]()\n",
        "    print(\"C\"+str(j+1)+\": \"+str(model.x[j]()))\n"
      ],
      "metadata": {
        "colab": {
          "base_uri": "https://localhost:8080/"
        },
        "id": "AiPAfP3zrmMb",
        "outputId": "4d0c029f-746e-40b7-b7b1-5ff9c195f198"
      },
      "execution_count": 71,
      "outputs": [
        {
          "output_type": "stream",
          "name": "stdout",
          "text": [
            "Day: 0 - 12.0 CSR\n",
            "C1: 2.0\n",
            "C2: 3.0\n",
            "C3: 0.0\n",
            "C4: 0.0\n",
            "C5: 3.0\n",
            "C6: 4.0\n",
            "Day: 1 - 13.0 CSR\n",
            "C1: 2.0\n",
            "C2: 4.0\n",
            "C3: 0.0\n",
            "C4: 0.0\n",
            "C5: 3.0\n",
            "C6: 4.0\n",
            "Day: 2 - 12.0 CSR\n",
            "C1: 3.0\n",
            "C2: 2.0\n",
            "C3: 0.0\n",
            "C4: 1.0\n",
            "C5: 2.0\n",
            "C6: 4.0\n",
            "Day: 3 - 13.0 CSR\n",
            "C1: 1.0\n",
            "C2: 3.0\n",
            "C3: 0.0\n",
            "C4: 1.0\n",
            "C5: 3.0\n",
            "C6: 5.0\n",
            "Day: 4 - 10.0 CSR\n",
            "C1: 3.0\n",
            "C2: 1.0\n",
            "C3: 1.0\n",
            "C4: 1.0\n",
            "C5: 1.0\n",
            "C6: 3.0\n",
            "Day: 5 - 12.0 CSR\n",
            "C1: 0.0\n",
            "C2: 3.0\n",
            "C3: 0.0\n",
            "C4: 1.0\n",
            "C5: 2.0\n",
            "C6: 6.0\n",
            "Day: 6 - 11.0 CSR\n",
            "C1: 0.0\n",
            "C2: 2.0\n",
            "C3: 0.0\n",
            "C4: 0.0\n",
            "C5: 4.0\n",
            "C6: 5.0\n"
          ]
        }
      ]
    },
    {
      "cell_type": "code",
      "source": [
        "#Q2\n",
        "\n",
        "\n",
        "nd = 7\n",
        "\n",
        "# for i in range(len(days)):\n",
        "model = pyo.ConcreteModel()\n",
        "# vars = list(range(0,no_shifts))\n",
        "\n",
        "model.x = pyo.Var(domain=pyo.NonNegativeIntegers)\n",
        "model.c = pyo.ConstraintList()\n",
        "  \n",
        "model.c.add(nd*max(ncs)-sum(ncs) + (nd*model.x) >= model.x+max(ncs))\n",
        "# print(reduce(lambda a, b: a + model.x[b], vars,0))\n",
        "model.objective = pyo.Objective(expr = model.x,sense=pyo.minimize)\n",
        "solver = pyo.SolverFactory('cbc')\n",
        "result = solver.solve(model)\n",
        "print(\"Number of CSR needed: \" + str(model.objective()))\n",
        "print(model.x())\n",
        "nc = model.objective()+max(ncs)\n",
        "# model.Constraint1 = pyo.Constraint(expr = 3*model.x[1] + 4*model.x[2] >= 1)"
      ],
      "metadata": {
        "colab": {
          "base_uri": "https://localhost:8080/"
        },
        "id": "AS8m5VZwLRgg",
        "outputId": "fbde9cf2-4ca6-4d87-a45c-40ca5a5635f8"
      },
      "execution_count": 3,
      "outputs": [
        {
          "output_type": "stream",
          "name": "stdout",
          "text": [
            "Number of CSR needed: 1.0\n",
            "1.0\n"
          ]
        }
      ]
    },
    {
      "cell_type": "code",
      "source": [
        "#Q3\n",
        "import math\n",
        "\n",
        "\n",
        "model = pyo.ConcreteModel()\n",
        "vars = list(range(int(nc*len(days)*no_shifts)))\n",
        "\n",
        "model.x = pyo.Var(vars,domain=pyo.Binary)\n",
        "model.c = pyo.ConstraintList()\n",
        "\n",
        "for i in range(int(nc)):\n",
        "  temp2 = None\n",
        "  for j in range(len(days)):\n",
        "    temp1 = None\n",
        "    for k in range(no_shifts):\n",
        "      if temp1 is None:\n",
        "        temp1 = model.x[i*(len(days)*no_shifts)+j*(len(days)-1)+k]\n",
        "      else:\n",
        "        temp1 += model.x[i*(len(days)*no_shifts)+j*(len(days)-1)+k]\n",
        "      if temp2 is None:\n",
        "        temp2 = model.x[i*(len(days)*no_shifts)+j*(len(days)-1)+k]\n",
        "      else:\n",
        "        temp2 += model.x[i*(len(days)*no_shifts)+j*(len(days)-1)+k]\n",
        "    model.c.add(temp1 <= 1)\n",
        "    # print(temp1)\n",
        "  model.c.add(temp2 <= nd-1)\n",
        "\n",
        "for j in range(len(days)):\n",
        "  for u in range(len(days[0])):\n",
        "    temp_3 = None\n",
        "    for k in range(no_shifts):  \n",
        "        for i in range(int(nc)):\n",
        "          if temp_3 is None:\n",
        "            temp_3  = model.x[i*(len(days)*no_shifts)+j*(len(days)-1)+k]*shifts[k][u]\n",
        "          else:\n",
        "            temp_3  += model.x[i*(len(days)*no_shifts)+j*(len(days)-1)+k]*shifts[k][u]\n",
        "    model.c.add(temp_3 >= days[j][u])\n",
        "\n",
        "for k in range(no_shifts):\n",
        "  # print(cas[k]/nc)\n",
        "  lb = math.floor(cas[k]/nc)\n",
        "  ub = math.ceil(cas[k]/nc)\n",
        "  \n",
        "  for i in range(int(nc)):\n",
        "    temp_4 = None\n",
        "    for j in range(len(days)):\n",
        "      if temp_4 is None:\n",
        "        temp_4 = model.x[i*(len(days)*no_shifts)+j*(len(days)-1)+k]\n",
        "      else:\n",
        "        temp_4 += model.x[i*(len(days)*no_shifts)+j*(len(days)-1)+k]\n",
        "\n",
        "    model.c.add(temp_4 >= lb)\n",
        "    model.c.add(temp_4 <= ub)\n",
        "\n",
        "\n",
        "model.objective = pyo.Objective(expr = reduce(lambda a, b: a + model.x[b], vars, 0),sense=pyo.minimize)\n",
        "solver = pyo.SolverFactory('cbc')\n",
        "result = solver.solve(model)\n",
        "print(result)\n",
        "print(\"Objective: \" + str(model.objective()))\n",
        "# s=0\n",
        "\n",
        "counts = [0 for i in range(no_shifts+1)]\n",
        "\n",
        "for i in range(int(nc)):\n",
        "  for j in range(len(days)):\n",
        "    s=-1\n",
        "    for k in range(no_shifts):\n",
        "      if model.x[i*(len(days)*no_shifts)+j*(len(days)-1)+k]()==1.0:\n",
        "        s = k\n",
        "    counts[s+1]+=1\n",
        "    print(s+1,end=' ')\n",
        "  print()\n"
      ],
      "metadata": {
        "colab": {
          "base_uri": "https://localhost:8080/"
        },
        "id": "gpnGZhD1LvB1",
        "outputId": "11ba885a-f9f6-45b4-8789-c9e9d0ab2520"
      },
      "execution_count": 98,
      "outputs": [
        {
          "output_type": "stream",
          "name": "stdout",
          "text": [
            "\n",
            "Problem: \n",
            "- Name: unknown\n",
            "  Lower bound: 83.0\n",
            "  Upper bound: 83.0\n",
            "  Number of objectives: 1\n",
            "  Number of constraints: 322\n",
            "  Number of variables: 588\n",
            "  Number of binary variables: 588\n",
            "  Number of integer variables: 588\n",
            "  Number of nonzeros: 588\n",
            "  Sense: minimize\n",
            "Solver: \n",
            "- Status: ok\n",
            "  User time: -1.0\n",
            "  System time: 0.05\n",
            "  Wallclock time: 0.05\n",
            "  Termination condition: optimal\n",
            "  Termination message: Model was solved to optimality (subject to tolerances), and an optimal solution is available.\n",
            "  Statistics: \n",
            "    Branch and bound: \n",
            "      Number of bounded subproblems: 0\n",
            "      Number of created subproblems: 0\n",
            "    Black box: \n",
            "      Number of iterations: 0\n",
            "  Error rc: 0\n",
            "  Time: 0.06833624839782715\n",
            "Solution: \n",
            "- number of solutions: 0\n",
            "  number of solutions displayed: 0\n",
            "\n",
            "Objective: 83.0\n",
            "0 6 1 5 6 2 4 \n",
            "6 5 6 3 1 2 0 \n",
            "2 6 1 2 5 0 6 \n",
            "3 2 6 1 0 6 5 \n",
            "0 1 2 6 0 5 6 \n",
            "2 6 5 4 1 6 0 \n",
            "3 2 6 0 5 6 1 \n",
            "6 2 0 1 3 6 5 \n",
            "5 1 6 6 0 2 2 \n",
            "1 5 4 6 6 0 2 \n",
            "6 2 0 5 1 3 6 \n",
            "1 6 2 2 6 5 0 \n",
            "6 0 1 2 2 6 5 \n",
            "2 5 3 6 0 6 6 \n"
          ]
        }
      ]
    },
    {
      "cell_type": "code",
      "source": [
        "[i/nc for i in counts[1:]]"
      ],
      "metadata": {
        "colab": {
          "base_uri": "https://localhost:8080/"
        },
        "id": "3grvEPTg4Ojh",
        "outputId": "edc5876e-0fd1-42b1-ddf4-842d5eedc5ff"
      },
      "execution_count": 102,
      "outputs": [
        {
          "output_type": "execute_result",
          "data": {
            "text/plain": [
              "[0.9285714285714286,\n",
              " 1.2857142857142858,\n",
              " 0.42857142857142855,\n",
              " 0.21428571428571427,\n",
              " 1.0,\n",
              " 2.0714285714285716]"
            ]
          },
          "metadata": {},
          "execution_count": 102
        }
      ]
    },
    {
      "cell_type": "code",
      "source": [
        "[i/nc for i in cas]"
      ],
      "metadata": {
        "colab": {
          "base_uri": "https://localhost:8080/"
        },
        "id": "1syKReGV4ROm",
        "outputId": "ecc860b5-9dbb-4bc0-cd62-a0815d6bc19c"
      },
      "execution_count": 103,
      "outputs": [
        {
          "output_type": "execute_result",
          "data": {
            "text/plain": [
              "[0.7857142857142857,\n",
              " 1.2857142857142858,\n",
              " 0.07142857142857142,\n",
              " 0.2857142857142857,\n",
              " 1.2857142857142858,\n",
              " 2.2142857142857144]"
            ]
          },
          "metadata": {},
          "execution_count": 103
        }
      ]
    }
  ]
}